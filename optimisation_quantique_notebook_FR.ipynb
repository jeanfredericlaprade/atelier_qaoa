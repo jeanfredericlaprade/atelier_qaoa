{
 "cells": [
  {
   "cell_type": "code",
   "execution_count": null,
   "metadata": {},
   "outputs": [],
   "source": [
    "!pip install qiskit\n",
    "!pip install qiskit_aer\n",
    "!pip install matplotlib\n",
    "!pip install pylatexenc\n",
    "!pip install scipy\n",
    "\n",
    "!git clone https://github.com/jeanfredericlaprade/atelier_qaoa.git"
   ]
  },
  {
   "cell_type": "markdown",
   "metadata": {},
   "source": [
    "# Optimisation quantique avec QAOA\n",
    "\n",
    "Dans ce notebook nous allons voir :\n",
    "\n",
    "1) Comment préparer un **état quantique** à l'aide d'un **circuit quantique** en utilisant la classe `QuantumCircuit` de Qiskit.\n",
    "\n",
    "2) Comment construire un **observable** en utilisant le sous-module `quantum_info` de Qiskit.\n",
    "\n",
    "3) Comment estimer le **gain moyen** en mesurant la valeur moyenne d'un **observable** sur un **état quantique** donné.\n",
    "\n",
    "4) À quoi ressemble un **circuit variationnel** pour **QAOA**.\n",
    "\n",
    "5) Comment **optimiser** les paramètres d'un circuit variationnel.\n",
    "\n",
    "6) Comment le **nombre de répétitions** dans le circuit **QAOA** influence les résultats."
   ]
  },
  {
   "cell_type": "markdown",
   "metadata": {},
   "source": [
    "## Installons quelques modules qui nous seront utiles"
   ]
  },
  {
   "cell_type": "code",
   "execution_count": 1,
   "metadata": {},
   "outputs": [],
   "source": [
    "import networkx as nx\n",
    "\n",
    "from qiskit import QuantumCircuit\n",
    "from qiskit.circuit.library.n_local.qaoa_ansatz import QAOAAnsatz\n",
    "from qiskit.primitives import BackendEstimatorV2 as Estimator, BackendSamplerV2 as Sampler\n",
    "from qiskit.quantum_info import SparsePauliOp\n",
    "from qiskit.visualization import plot_histogram\n",
    "from qiskit_aer import AerSimulator\n",
    "\n",
    "from scipy.optimize import minimize"
   ]
  },
  {
   "cell_type": "code",
   "execution_count": 2,
   "metadata": {},
   "outputs": [],
   "source": [
    "import sys\n",
    "sys.path.insert(0, '/content/atelier_qaoa')\n",
    "\n",
    "from qaoa_algolab import *"
   ]
  },
  {
   "cell_type": "markdown",
   "metadata": {},
   "source": [
    "Vous devriez pouvoir éxécuter la cellule suivante si le fichier `QAOA_AlgoLab.py` se trouve dans le même dossier que ce notebook."
   ]
  },
  {
   "cell_type": "code",
   "execution_count": null,
   "metadata": {},
   "outputs": [],
   "source": [
    "test_function()"
   ]
  },
  {
   "cell_type": "markdown",
   "metadata": {},
   "source": [
    "## Préparation d'états quantiques\n",
    "\n",
    "Commençons avec la préparation d'un état quantique en programmant un circuit quantique. Préparons l'état $|01011\\rangle$."
   ]
  },
  {
   "cell_type": "code",
   "execution_count": null,
   "metadata": {},
   "outputs": [],
   "source": [
    "qc_trial = QuantumCircuit(5)\n",
    "qc_trial.x([0,1,3])\n",
    "qc_trial.draw('mpl', scale=0.5)"
   ]
  },
  {
   "cell_type": "markdown",
   "metadata": {},
   "source": [
    "Nous pouvons vérifier que ce circuit prépare bien l'état désiré en simulant son éxécution à l'aide du simulateur `AerSimulator`.\n",
    "\n",
    "La prochaine cellule ajoute des mesures au circuit `qc_trial`, simule son éxécution et retourne un dictionnaire qui décrit quels résultats on été obtenus et combien de fois chacun (`counts`)."
   ]
  },
  {
   "cell_type": "code",
   "execution_count": null,
   "metadata": {},
   "outputs": [],
   "source": [
    "qc_trial_state = qc_trial.copy()\n",
    "qc_trial.measure_all()\n",
    "\n",
    "simulator = AerSimulator(shots=100)  # On répète la préparation et la mesure du circuit 100 fois\n",
    "counts = simulator.run(qc_trial).result().get_counts()\n",
    "\n",
    "print(counts)"
   ]
  },
  {
   "cell_type": "markdown",
   "metadata": {},
   "source": [
    "### Exercice 1\n",
    "\n",
    "Programmer un circuit quantique qui permet de préparer l'état suivant. \n",
    "\n",
    "$ \\frac{1}{\\sqrt{2}} \\big( |11101\\rangle + |11001\\rangle \\big) $"
   ]
  },
  {
   "cell_type": "code",
   "execution_count": null,
   "metadata": {},
   "outputs": [],
   "source": [
    "qc_ex_1 = QuantumCircuit(5)\n",
    "# Votre code ici"
   ]
  },
  {
   "cell_type": "code",
   "execution_count": null,
   "metadata": {},
   "outputs": [],
   "source": [
    "exercise_superposition_state(qc_ex_1)"
   ]
  },
  {
   "cell_type": "markdown",
   "metadata": {},
   "source": [
    "## Construire un observable\n",
    "\n",
    "Utilisons le sous-module `quantum_info` pour construire des **observables**.\n",
    "\n",
    "La cellule suivante illustre comment construire le premier terme de l'observable de gain associé au lien entre les noeuds rouge et orange dans le graphe des super-héros."
   ]
  },
  {
   "cell_type": "code",
   "execution_count": null,
   "metadata": {},
   "outputs": [],
   "source": [
    "example_operator = SparsePauliOp(data=[\"IIIZZ\"], coeffs=[-0.5])\n",
    "print(example_operator)"
   ]
  },
  {
   "cell_type": "markdown",
   "metadata": {},
   "source": [
    "### Exercice 2\n",
    "\n",
    "Construisez l'opérateur de gain total pour le graphe complet du problème d'optimisation des super-héroes.\n",
    "$$\n",
    "    - \\frac{1}{2}\\hat{I}\\hat{I}\\hat{I}\\hat{Z}\\hat{Z}\n",
    "    - \\frac{1}{2}\\hat{I}\\hat{I}\\hat{Z}\\hat{I}\\hat{Z}\n",
    "    - \\frac{1}{2}\\hat{I}\\hat{I}\\hat{Z}\\hat{Z}\\hat{I}\n",
    "    - \\frac{1}{2}\\hat{Z}\\hat{I}\\hat{I}\\hat{Z}\\hat{I}\n",
    "    - \\frac{1}{2}\\hat{I}\\hat{Z}\\hat{Z}\\hat{I}\\hat{I} \n",
    "    - \\frac{1}{2}\\hat{Z}\\hat{Z}\\hat{I}\\hat{I}\\hat{I} \n",
    "    + \\frac{6}{2}\\hat{I}\\hat{I}\\hat{I}\\hat{I}\\hat{I}\n",
    "$$"
   ]
  },
  {
   "cell_type": "code",
   "execution_count": null,
   "metadata": {},
   "outputs": [],
   "source": [
    "gain_operator = None  # Completer l'observable\n",
    "\n",
    "exercise_gain_operator(gain_operator)"
   ]
  },
  {
   "cell_type": "markdown",
   "metadata": {},
   "source": [
    "## Estimer le gain moyen\n",
    "\n",
    "On combine un `QuantumCircuit` et un **observable** pour **estimer le gain moyen** à l'aide de Qiskit, $  \\langle\\psi|\\hat{G}|\\psi\\rangle $.\n",
    "\n",
    "On vous fourni la fonction `eval_observable_on_state()` pour effectuer ce calcul. On reviendra à son implémentation un peu plus tard dans ce notebook."
   ]
  },
  {
   "cell_type": "code",
   "execution_count": null,
   "metadata": {},
   "outputs": [],
   "source": [
    "data = [\"IIIZZ\", \"IIZIZ\", \"IIZZI\", \"ZIIZI\", \"IZZII\", \"ZZIII\", \"IIIII\"]\n",
    "coeffs = [-0.5,  -0.5, -0.5, -0.5, -0.5, -0.5, 0.5*6]\n",
    "\n",
    "gain_operator = SparsePauliOp(data=data, coeffs=coeffs)\n",
    "\n",
    "average_gain = eval_observable_on_state(gain_operator, qc_trial_state, simulator)\n",
    "\n",
    "print(average_gain)"
   ]
  },
  {
   "cell_type": "markdown",
   "metadata": {},
   "source": [
    "### Exercice 3\n",
    "\n",
    "Estimer le gain moyen à l'aide de `gain_operator` pour l'état quantique $ \\frac{1}{\\sqrt{2}} \\big( |01011\\rangle + |11011\\rangle \\big)$. Vous devez d'abord construire le `QuantumCircuit` qui prépare cet état."
   ]
  },
  {
   "cell_type": "code",
   "execution_count": null,
   "metadata": {},
   "outputs": [],
   "source": [
    "qc_ex_3 = QuantumCircuit(5) \n",
    "### Construisez votre circuit ici\n",
    "\n",
    "###\n",
    "qc_ex_3.draw('mpl')"
   ]
  },
  {
   "cell_type": "code",
   "execution_count": null,
   "metadata": {},
   "outputs": [],
   "source": [
    "average_gain = eval_observable_on_state(gain_operator, qc_ex_3, simulator)\n",
    "exercise_average_gain(average_gain)"
   ]
  },
  {
   "cell_type": "markdown",
   "metadata": {},
   "source": [
    "## Outil de visualisation de solution\n",
    "\n",
    "On vous fourni un outil de visualisation de solution. On doit fournir la forme du graphe comme un `Graph` de `networkx`. On doit également fournir une chaine de bits qui décrit la configuration des équipes. \n",
    "\n",
    "**Rappel** : Les chaines de bits se lisent de la droite vers la gauche.\n",
    "\n",
    "L'équipe 0 apparait comme des cercles blancs, et l'équipe 1, comme des cercles gris."
   ]
  },
  {
   "cell_type": "code",
   "execution_count": null,
   "metadata": {},
   "outputs": [],
   "source": [
    "graph = nx.Graph()\n",
    "graph.add_nodes_from([0,1,2,3,4])\n",
    "graph.add_edges_from([(0, 1), (0, 2), (1, 2), (1, 4), (2, 3), (3, 4)])\n",
    "\n",
    "x = '01011'  # correspond à l'état `qc_trial` définit précédemment \n",
    "print_solution_graph(graph, x)"
   ]
  },
  {
   "cell_type": "markdown",
   "metadata": {},
   "source": [
    "## Construction du circuit pour QAOA"
   ]
  },
  {
   "cell_type": "markdown",
   "metadata": {},
   "source": [
    "L'algorithme d'optimisation approximative quantique (QAOA) utilise une forme de circuit quantique particulière. Ce circuit dépend de l'observable de **coût**, qui est la valeur **négative** de l'observable de **gain**. Il contient également des paramètres qui seront ajustés dans une routine d'optimisation."
   ]
  },
  {
   "cell_type": "code",
   "execution_count": null,
   "metadata": {},
   "outputs": [],
   "source": [
    "cost_operator = - gain_operator\n",
    "print(cost_operator)"
   ]
  },
  {
   "cell_type": "markdown",
   "metadata": {},
   "source": [
    "1) Le circuit quantique de QAOA débute en appliquant des portes **Hadamard** sur tous les qubits pour préparer une **superposition** égale de tous les états afin d'exploiter le **parallélisme quantique**.\n",
    "\n",
    "2) Des séries de portes **RZZ** sont ensuite appliquées en suivant la structure de l'observable de **coût**.\n",
    "\n",
    "3) L'étape de **mélange** consiste en des rotations **RX** sur chacun des qubits.\n",
    "\n",
    "Les étapes 2 et 3 peuvent être répétées plusieurs fois grâce au paramètre `reps`.\n",
    "\n",
    "`Qiskit` fournit la classe `QAOAAnsatz` qui implémente cette structure. "
   ]
  },
  {
   "cell_type": "code",
   "execution_count": null,
   "metadata": {},
   "outputs": [],
   "source": [
    "qaoa_ansatz_1 = QAOAAnsatz(cost_operator, reps=1)\n",
    "\n",
    "qaoa_ansatz_1.draw('mpl', scale=0.5)"
   ]
  },
  {
   "cell_type": "code",
   "execution_count": null,
   "metadata": {},
   "outputs": [],
   "source": [
    "qaoa_ansatz_1.decompose(reps=1).draw('mpl', scale=0.5)"
   ]
  },
  {
   "cell_type": "code",
   "execution_count": null,
   "metadata": {},
   "outputs": [],
   "source": [
    "qaoa_ansatz_1.decompose(reps=2).draw('mpl', scale=0.5)"
   ]
  },
  {
   "cell_type": "code",
   "execution_count": null,
   "metadata": {},
   "outputs": [],
   "source": [
    "print(f\"Nombre de paramètres dans le circuit: {qaoa_ansatz_1.num_parameters}\")\n",
    "print(qaoa_ansatz_1.parameters)"
   ]
  },
  {
   "cell_type": "markdown",
   "metadata": {},
   "source": [
    "# Interprétation et visualisation des résultats\n",
    "\n",
    "L'objectif de l'algoritme QAOA est de préparer un état dont les amplitudes de probabilité les plus élevées correspondent aux solutions recherchées du problème.\n",
    "\n",
    "On explore cet espace d'états à l'aide des paramètres du circuit QAOA.\n",
    "\n",
    "Pour une valeur donnée des paramètres, on peut préparer et mesurer l'état correspondant plusieurs fois pour obtenir un petit nombre de solutions candidates qui pourront être vérifiées individuellement.\n",
    "\n",
    "On présente souvent les résultats d'un calcul quantique sous la forme d'un histogramme."
   ]
  },
  {
   "cell_type": "code",
   "execution_count": null,
   "metadata": {},
   "outputs": [],
   "source": [
    "params = np.random.random(qaoa_ansatz_1.num_parameters)\n",
    "print(f\"Valeur des paramètres: {params}\")\n",
    "\n",
    "qaoa_ansatz_1_inst = qaoa_ansatz_1.assign_parameters(params)\n",
    "qaoa_ansatz_1_inst.measure_all()\n",
    "\n",
    "counts = simulator.run(qaoa_ansatz_1_inst.decompose(reps=2)).result().get_counts()\n",
    "\n",
    "print(counts)"
   ]
  },
  {
   "cell_type": "code",
   "execution_count": null,
   "metadata": {
    "scrolled": false
   },
   "outputs": [],
   "source": [
    "plot_histogram(counts, figsize=(8,4))"
   ]
  },
  {
   "cell_type": "markdown",
   "metadata": {},
   "source": [
    "# Estimation de la valeur moyenne\n",
    "\n",
    "On peut calculer la valeur moyenne de l'opérateur de coût pour l'état quantique préparé par le circuit QAOA\n",
    "\n",
    "$  \\langle\\psi_\\text{QAOA}(\\boldsymbol{\\beta},\\boldsymbol{\\gamma})|\\hat{C}|\\psi_\\text{QAOA}(\\boldsymbol{\\beta},\\boldsymbol{\\gamma})\\rangle $.\n",
    "\n",
    "La classe `Estimator` de Qiskit nous permet d'estimer cette valeur moyenne."
   ]
  },
  {
   "cell_type": "code",
   "execution_count": null,
   "metadata": {},
   "outputs": [],
   "source": [
    "estimator = Estimator(backend=simulator)\n",
    "\n",
    "job = estimator.run([(qaoa_ansatz_1.decompose(reps=2), cost_operator, params)])\n",
    "valeur_moyenne = job.result()[0].data.evs\n",
    "\n",
    "print(f\"Valeur moyenne: {valeur_moyenne}\")"
   ]
  },
  {
   "cell_type": "markdown",
   "metadata": {},
   "source": [
    "## Optimisation des paramètres du circuit quantique de QAOA\n",
    "\n",
    "On veut maintenant automatiser la recherche des meilleurs paramètres pour le circuit QAOA. Pour cela on doit cependant :\n",
    "\n",
    "1) Définir la fonction à optimiser.\n",
    "\n",
    "2) Éxécuter le processus d'optimisation avec un optimiseur classique qui choisira quels paramètres essayer dans le circuit\n",
    "\n",
    "3) Extraire une solution comme étant l'état le plus probable."
   ]
  },
  {
   "cell_type": "code",
   "execution_count": 44,
   "metadata": {},
   "outputs": [],
   "source": [
    "# 1. Définir la fonction de coût classique à optimiser\n",
    "\n",
    "def fonction_cout(\n",
    "    params: list[complex], estimator: Estimator, circuit: QuantumCircuit, cost_operator: SparsePauliOp\n",
    ") -> float:\n",
    "\n",
    "    job = estimator.run([(circuit, cost_operator, params)])\n",
    "    cout = job.result()[0].data.evs\n",
    "    return cout"
   ]
  },
  {
   "cell_type": "code",
   "execution_count": null,
   "metadata": {},
   "outputs": [],
   "source": [
    "params_init = np.zeros(qaoa_ansatz_1.num_parameters)\n",
    "\n",
    "# 2. Éxécuter le processus d'optimisation à l'aide de la méthode COBYLA de Scipy\n",
    "res_opt = minimize(\n",
    "    fonction_cout, params_init, args=(estimator, qaoa_ansatz_1.decompose(reps=2), cost_operator), method=\"COBYLA\"\n",
    ")\n",
    "\n",
    "# 3. Extraction des informations suite à l'optimisation\n",
    "cout_opt = res_opt.fun  # Cout optimal trouvé\n",
    "params_opt = res_opt.x  # Paramètres optimaux trouvés\n",
    "\n",
    "# Affichage des résultats obtenus\n",
    "print(\"Cout optimal trouvé :\", cout_opt)\n",
    "print(\"Paramètres optimaux trouvés :\", params_opt)"
   ]
  },
  {
   "cell_type": "markdown",
   "metadata": {},
   "source": [
    "Lorsqu'on a obtenu les paramètres optimaux - c'est-à-dire ceux qui minimisent la valeur moyenne de l'observable de coût - on prépare l'état quantique correspondant et on obtient les solutions optimales."
   ]
  },
  {
   "cell_type": "code",
   "execution_count": null,
   "metadata": {},
   "outputs": [],
   "source": [
    "qaoa_ansatz_1_opt = qaoa_ansatz_1.assign_parameters(params_opt)\n",
    "qaoa_ansatz_1_opt.decompose().draw('mpl', scale=0.5)"
   ]
  },
  {
   "cell_type": "code",
   "execution_count": null,
   "metadata": {},
   "outputs": [],
   "source": [
    "qaoa_ansatz_1_opt.measure_all()\n",
    "\n",
    "final_counts = simulator.run(qaoa_ansatz_1_opt.decompose(reps=2)).result().get_counts()\n",
    "\n",
    "plot_histogram(final_counts, figsize=(8,4))"
   ]
  },
  {
   "cell_type": "code",
   "execution_count": null,
   "metadata": {},
   "outputs": [],
   "source": [
    "maximum_prob_state = max(final_counts, key=final_counts.get)\n",
    "print(\"État de base avec la plus grande probabilité: \", maximum_prob_state)"
   ]
  },
  {
   "cell_type": "code",
   "execution_count": null,
   "metadata": {},
   "outputs": [],
   "source": [
    "print_solution_graph(graph, maximum_prob_state)"
   ]
  },
  {
   "cell_type": "markdown",
   "metadata": {},
   "source": [
    "### Remarque\n",
    "\n",
    "Lorsqu'on utilise un petit nombre de répétitions, l'algorithme QAOA ne retourne pas toujours une bonne solution. Aussi, les bonnes solutions ne se distinguent pas toujours très bien des mauvaises. On va maintenant voir l'effet d'un plus grand nombre de répétitions."
   ]
  },
  {
   "cell_type": "markdown",
   "metadata": {},
   "source": [
    "## Effet du nombre de répétitions\n",
    "\n",
    "Testons QAOA pour le même problème mais utilisons plus de répétitions."
   ]
  },
  {
   "cell_type": "code",
   "execution_count": null,
   "metadata": {},
   "outputs": [],
   "source": [
    "# Créer le circuit paramétré QAOA avec 8 répétitions\n",
    "qaoa_ansatz_8 = QAOAAnsatz(cost_operator, reps=8)\n",
    "\n",
    "# Initialiser la valeur initiale des paramètres à 0\n",
    "params_init = np.zeros(qaoa_ansatz_8.num_parameters)\n",
    "\n",
    "# Trouver la valeur des angles qui minimisent l'opérateur de coût\n",
    "res_opt = minimize(\n",
    "    fonction_cout, params_init, args=(estimator, qaoa_ansatz_8.decompose(reps=2), cost_operator), method=\"COBYLA\"\n",
    ")\n",
    "\n",
    "# Extraire des informations suite à l'optimisation\n",
    "cout_opt = res_opt.fun  # Coût optimal trouvé\n",
    "params_opt = res_opt.x  # Paramètres optimaux trouvés\n",
    "\n",
    "# Obtenir le circuit qui prépare l'état optimal\n",
    "qaoa_ansatz_8_opt = qaoa_ansatz_8.assign_parameters(params_opt)\n",
    "qaoa_ansatz_8_opt.measure_all()\n",
    "\n",
    "optimal_qc_with_measurements = qaoa_ansatz_8_opt.copy()\n",
    "optimal_qc_with_measurements.measure_all()\n",
    "final_counts = simulator.run(qaoa_ansatz_8_opt.decompose(reps=2)).result().get_counts()\n",
    "\n",
    "# plot the histogram\n",
    "plot_histogram(final_counts, figsize=(8,4))"
   ]
  },
  {
   "cell_type": "markdown",
   "metadata": {},
   "source": [
    "## Observations\n",
    "\n",
    "Vous remarquerez que QAOA ne converge pas sur une bonne solution à tous les coups. Cet algorithme ne s'appelle pas _Algorithme d'Optimisation **Approximative** Quantique_ pour rien!\n",
    "\n",
    "Cependant, pour des problèmes très complexes, où le nombre de configurations possibles est exponentiellement grand, QAOA pourrait permettre de suggérer des solutions dont la validité est ensuite facile à vérifier."
   ]
  },
  {
   "cell_type": "markdown",
   "metadata": {},
   "source": [
    "# Sans optimisation\n",
    "\n",
    "En se basant sur la théorie du recuit quantique (_quantum annealing_), il est possible de calculer classiquement un ensemble de paramètres qui permet d'obtenir une valeur moyenne qui s'approche d'un résultat optimal. Il n'est cependant pas clair si cet approche continue de fonctionner pour des systèmes de plus grande taille."
   ]
  },
  {
   "cell_type": "code",
   "execution_count": null,
   "metadata": {},
   "outputs": [],
   "source": [
    "qaoa_ansatz_3 = QAOAAnsatz(cost_operator, reps=3)\n",
    "\n",
    "betas = [-1., -0.6, -0.2]\n",
    "gammas = [0.2, 0.6, 1.]\n",
    "\n",
    "qaoa_ansatz_3_opt = qaoa_ansatz_3.assign_parameters(betas + gammas)\n",
    "qaoa_ansatz_3_opt.decompose(reps=2).draw(scale=0.5)"
   ]
  },
  {
   "cell_type": "code",
   "execution_count": null,
   "metadata": {},
   "outputs": [],
   "source": [
    "qaoa_ansatz_3_opt.measure_all()\n",
    "final_counts = simulator.run(qaoa_ansatz_3_opt.decompose(reps=2)).result().get_counts()\n",
    "\n",
    "plot_histogram(final_counts, figsize=(8,4))"
   ]
  },
  {
   "cell_type": "markdown",
   "metadata": {},
   "source": [
    "## Formulaires d'évaluation et d'appréciation\n",
    "\n",
    "Vous pouvez maintenant utiliser et modifier ce notebook pour vous aider à répondre aux questions d'évalution en cliquant [ici](https://forms.office.com/r/xAKdrNQEej). Vous devrez répondre correctement à au moins 2 questions sur 4 pour obtenir votre attestation. Le questionnaire comprend également des questions sur votre appréciation de l'atelier. Une période de 24h vous est allouée pour répondre. Merci!"
   ]
  }
 ],
 "metadata": {
  "kernelspec": {
   "display_name": "Python 3.9.12 ('qiskit')",
   "language": "python",
   "name": "python3"
  },
  "language_info": {
   "codemirror_mode": {
    "name": "ipython",
    "version": 3
   },
   "file_extension": ".py",
   "mimetype": "text/x-python",
   "name": "python",
   "nbconvert_exporter": "python",
   "pygments_lexer": "ipython3",
   "version": "3.11.7"
  },
  "vscode": {
   "interpreter": {
    "hash": "81cfc0e50c93f82568610dccb22eae6eb90d80f5b8c4769a839926e4ff39b503"
   }
  }
 },
 "nbformat": 4,
 "nbformat_minor": 2
}
